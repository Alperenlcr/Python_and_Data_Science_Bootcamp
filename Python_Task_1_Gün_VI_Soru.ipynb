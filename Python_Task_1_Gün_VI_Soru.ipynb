{
  "nbformat": 4,
  "nbformat_minor": 0,
  "metadata": {
    "colab": {
      "provenance": [],
      "include_colab_link": true
    },
    "kernelspec": {
      "name": "python3",
      "display_name": "Python 3"
    },
    "language_info": {
      "name": "python"
    }
  },
  "cells": [
    {
      "cell_type": "markdown",
      "metadata": {
        "id": "view-in-github",
        "colab_type": "text"
      },
      "source": [
        "<a href=\"https://colab.research.google.com/github/Alperenlcr/Python_and_Data_Science_Bootcamp/blob/main/Python_Task_1_G%C3%BCn_VI_Soru.ipynb\" target=\"_parent\"><img src=\"https://colab.research.google.com/assets/colab-badge.svg\" alt=\"Open In Colab\"/></a>"
      ]
    },
    {
      "cell_type": "markdown",
      "source": [
        "# Python Task - 10\n"
      ],
      "metadata": {
        "id": "aZKlY5jow3fE"
      }
    },
    {
      "cell_type": "markdown",
      "source": [
        "Bir ada su ile çevrilidir ve bitişik arazilerin yatay veya dikey olarak birleştirilmesiyle oluşturulur. Izgaranın dört kenarı da da suyla çevrilidir.\n",
        "\n",
        "'1'ler (kara) ve '0'lardan (su) oluşan bir haritayı temsil eden bir m x n 2B ikili ızgara tablosu verildiğinde, ada sayısını döndürün.\n",
        "\n",
        "\n",
        "\n",
        "\n",
        "\n",
        "**Örnek:**\n",
        "\n",
        "**Girdi:**\n",
        "\n",
        "grid = \n",
        "\n",
        "[[\"1\",\"1\",\"1\",\"1\",\"0\"],\n",
        "\n",
        "  [\"1\",\"1\",\"0\",\"1\",\"0\"],\n",
        "\n",
        "  [\"1\",\"1\",\"0\",\"0\",\"0\"],\n",
        "\n",
        "  [\"0\",\"0\",\"0\",\"0\",\"0\"]]\n",
        "\n",
        "\n",
        "**Çıktı:** \n",
        "1\n",
        "\n",
        "\n",
        "\n",
        "\n",
        "**Girdi:**\n",
        "\n",
        "                          ['1', '1', '0', '0', '0'],\n",
        "\n",
        "                          ['1', '0', '1', '0', '0'],\n",
        "\n",
        "                          ['0', '0', '1', '0', '0'],\n",
        "\n",
        "                          ['0', '0', '0', '1', '1']\n",
        "                       \n",
        "\n",
        "\n",
        "\n",
        "\n",
        "**Çıktı:** \n",
        "3"
      ],
      "metadata": {
        "id": "mWEhIRGa1vpr"
      }
    },
    {
      "cell_type": "code",
      "source": [
        "def solve(grid, stack):\n",
        "  if len(stack) == 0:\n",
        "    return\n",
        "  if stack[-1][0]+1 < len(grid) and grid[stack[-1][0]+1][stack[-1][1]] == '1':  # down\n",
        "      grid[stack[-1][0]+1][stack[-1][1]] = '0'\n",
        "      stack.append([stack[-1][0]+1, stack[-1][1]])\n",
        "      return solve(grid, stack)\n",
        "  elif stack[-1][1]+1 < len(grid[0]) and grid[stack[-1][0]][stack[-1][1]+1] == '1':  # right\n",
        "      grid[stack[-1][0]][stack[-1][1]+1] = '0'\n",
        "      stack.append([stack[-1][0], stack[-1][1]+1])\n",
        "      return solve(grid, stack)\n",
        "  elif stack[-1][1]-1 >= 0 and grid[stack[-1][0]][stack[-1][1]-1] == '1':  # left\n",
        "      grid[stack[-1][0]][stack[-1][1]-1] = '0'\n",
        "      stack.append([stack[-1][0], stack[-1][1]-1])\n",
        "      return solve(grid, stack)\n",
        "  elif stack[-1][0]-1 >= 0 and grid[stack[-1][0]-1][stack[-1][1]] == '1':  # up\n",
        "      grid[stack[-1][0]-1][stack[-1][1]] = '0'\n",
        "      stack.append([stack[-1][0]-1, stack[-1][1]])\n",
        "      return solve(grid, stack)\n",
        "  return solve(grid, stack[:-1])\n",
        "\n",
        "\n",
        "def numIslands(grid):\n",
        "        #kodu buraya yazınız\n",
        "        count = 0\n",
        "        for i in range(len(grid)):\n",
        "          for j in range(len(grid[0])):\n",
        "            if grid[i][j] == '1':\n",
        "              stack = []\n",
        "              stack.append([i, j])\n",
        "              grid[i][j] = '0'\n",
        "              count += 1\n",
        "              solve(grid, stack)\n",
        "        return count\n",
        "\n",
        "if __name__ == \"__main__\":\n",
        "    print(\n",
        "        numIslands(\n",
        "                      [\n",
        "                          ['0', '1', '0', '0', '1'],\n",
        "                          ['1', '0', '1', '0', '0'],\n",
        "                          ['0', '0', '0', '0', '1'],\n",
        "                          ['1', '0', '0', '1', '1']\n",
        "                       ]\n",
        "                   )\n",
        "        )"
      ],
      "metadata": {
        "id": "fUHgkY9Y02q2",
        "colab": {
          "base_uri": "https://localhost:8080/"
        },
        "outputId": "de76697f-86b6-496e-ccc6-e51cecc5c9d1"
      },
      "execution_count": null,
      "outputs": [
        {
          "output_type": "stream",
          "name": "stdout",
          "text": [
            "6\n"
          ]
        }
      ]
    }
  ]
}
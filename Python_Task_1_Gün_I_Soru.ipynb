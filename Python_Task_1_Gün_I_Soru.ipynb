{
  "nbformat": 4,
  "nbformat_minor": 0,
  "metadata": {
    "colab": {
      "provenance": [],
      "include_colab_link": true
    },
    "kernelspec": {
      "name": "python3",
      "display_name": "Python 3"
    },
    "language_info": {
      "name": "python"
    }
  },
  "cells": [
    {
      "cell_type": "markdown",
      "metadata": {
        "id": "view-in-github",
        "colab_type": "text"
      },
      "source": [
        "<a href=\"https://colab.research.google.com/github/Alperenlcr/Python_and_Data_Science_Bootcamp/blob/main/Python_Task_1_G%C3%BCn_I_Soru.ipynb\" target=\"_parent\"><img src=\"https://colab.research.google.com/assets/colab-badge.svg\" alt=\"Open In Colab\"/></a>"
      ]
    },
    {
      "cell_type": "markdown",
      "source": [
        "#Python Task - 1\n",
        "\n",
        "Verilen pozitif bir tam sayının çift olması durumunda ikiye bölen, tek olması durumunda da bir eksilten. Bu işlemi elde edilen sonuç sıfır olana kadar devam eden fonksiyonu oluşturunuz. \n",
        "\n",
        "Sayının sıfır olması için toplam kaç işlem yapıldığını ekrana yazdırınız."
      ],
      "metadata": {
        "id": "XQrszEOottv8"
      }
    },
    {
      "cell_type": "markdown",
      "source": [
        "**Örnek:**\n",
        "\n",
        " **Girdi: 14**\n",
        "\n",
        " **Çıktı 6**\n",
        "\n",
        "\n",
        "Açıklama\n",
        "\n",
        "Adım 1: Sayı çift, 14 ikiye bölünür elde edilen değer 7\n",
        "\n",
        "Adım 2: Sayı tek, 7’den bir eksiltilir elde edilen değer 6\n",
        "\n",
        "Adım 3: Sayı çift, 6 ikiye bölünür elde edilen değer 3\n",
        "\n",
        "Adım 4 Sayı tek, 3’ten bir eksiltilir elde edilen değer 2\n",
        "\n",
        "Adım 5: Sayı çift, 2 ikiye bölünür elde edilen değer 1\n",
        "\n",
        "Adım 6: Sayı tek, 1’den bir çıkartılır elde edilen değer 0\n",
        "\n"
      ],
      "metadata": {
        "id": "6RjiCTxxuiv1"
      }
    },
    {
      "cell_type": "code",
      "source": [
        "def numberOfSteps (num: int):\n",
        "    #kodu buraya yazınız\n",
        "    count = 0\n",
        "    while num != 0:\n",
        "      count += 1\n",
        "      if num % 2 == 0:\n",
        "        num /= 2\n",
        "      else:\n",
        "        num -= 1\n",
        "    return count\n",
        "       \n",
        "\n",
        "if __name__ == '__main__':\n",
        "  print(numberOfSteps(14))"
      ],
      "metadata": {
        "id": "sRR0AUtYuilR",
        "colab": {
          "base_uri": "https://localhost:8080/"
        },
        "outputId": "96b53d2a-6928-4d66-b964-faa1cdb68dce"
      },
      "execution_count": null,
      "outputs": [
        {
          "output_type": "stream",
          "name": "stdout",
          "text": [
            "6\n"
          ]
        }
      ]
    }
  ]
}
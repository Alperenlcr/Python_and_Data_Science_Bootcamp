{
  "nbformat": 4,
  "nbformat_minor": 0,
  "metadata": {
    "colab": {
      "provenance": [],
      "include_colab_link": true
    },
    "kernelspec": {
      "name": "python3",
      "display_name": "Python 3"
    },
    "language_info": {
      "name": "python"
    }
  },
  "cells": [
    {
      "cell_type": "markdown",
      "metadata": {
        "id": "view-in-github",
        "colab_type": "text"
      },
      "source": [
        "<a href=\"https://colab.research.google.com/github/Alperenlcr/Python_and_Data_Science_Bootcamp/blob/main/Python_Task_1_G%C3%BCn_IV_Soru.ipynb\" target=\"_parent\"><img src=\"https://colab.research.google.com/assets/colab-badge.svg\" alt=\"Open In Colab\"/></a>"
      ]
    },
    {
      "cell_type": "markdown",
      "source": [
        "#Python Task - 4\n",
        "\n",
        "Verilen 2 boyutlu 2 matrisi bağımsız değişken olarak alan ve bunların çarpımını döndüren bir fonksiyon yazmanız beklenmektedir. Fonksiyonun önce matrislerin boyutlarını karşılaştırarak çarpılıp çarpılmayacağını kontrol etmesi **(uygun olmaması durumunda uyarı mesajı döndürmelidir)** ve matris çarpmasını gerçekleştirmesi beklenmektedir.\n",
        "\n",
        "**Not: Herhangi bir built-in fonksiyon kullanılmamalıdır.**\n",
        "\n",
        "\n"
      ],
      "metadata": {
        "id": "SegeTfZ_-BEU"
      }
    },
    {
      "cell_type": "markdown",
      "source": [
        "**Örnek:** \n",
        "\n",
        "**Girdi:**\n",
        "\n",
        "matrix1 = [[1, 2, 3], [4, 5, 6],[7, 8, 9]]\n",
        "\n",
        "matrix2 = [[9, 8, 7], [6, 5, 4], [3, 2, 1]]\n",
        "\n",
        "**Çıktı:**\n",
        " [[30, 24, 18], [84, 69, 54], [138, 114, 90]]\n"
      ],
      "metadata": {
        "id": "5zflrdIi-OHA"
      }
    },
    {
      "cell_type": "code",
      "execution_count": null,
      "metadata": {
        "id": "da07ff9a",
        "outputId": "8fb68ea2-d4fa-4ffb-cb2a-5b7f2f5e45e2",
        "colab": {
          "base_uri": "https://localhost:8080/"
        }
      },
      "outputs": [
        {
          "output_type": "stream",
          "name": "stdout",
          "text": [
            "[[30, 24, 18], [84, 69, 54], [138, 114, 90]]\n"
          ]
        }
      ],
      "source": [
        "def transpose(matrix):\n",
        "  r=len(matrix)\n",
        "  c=len(matrix[0])\n",
        "  new = [[0 for j in range(r)] for i in range(c)]\n",
        "  for i in range(r):\n",
        "    for j in range(c):\n",
        "      new[j][i] = matrix[i][j]\n",
        "  return new\n",
        "\n",
        "\n",
        "def matrix_multiply(matrix1, matrix2):\n",
        "    #kodunuzu buraya yazınız\n",
        "    row1 = len(matrix1)\n",
        "    row2 = len(matrix2)\n",
        "    column1 = len(matrix1[0])\n",
        "    column2 = len(matrix2[0])\n",
        "    if column1 != row2:\n",
        "      return \"Error\"\n",
        "    r = [[0 for j in range(column2)] for i in range(row1)]\n",
        "    matrix2_transposed = transpose(matrix2)\n",
        "    for i in range(row1):\n",
        "      for j in range(column2):\n",
        "        temp = 0\n",
        "        for k in range(column1):\n",
        "          temp += matrix1[i][k]*matrix2_transposed[j][k]\n",
        "        r[i][j] = temp\n",
        "    return r\n",
        "\n",
        "\n",
        "if __name__ == '__main__':\n",
        "  matrix1 = [[1, 2, 3], [4, 5, 6],[7, 8, 9]]\n",
        "  matrix2 = [[9, 8, 7], [6, 5, 4], [3, 2, 1]]\n",
        "  print(matrix_multiply(matrix1, matrix2))\n"
      ]
    }
  ]
}
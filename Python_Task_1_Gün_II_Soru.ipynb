{
  "nbformat": 4,
  "nbformat_minor": 0,
  "metadata": {
    "colab": {
      "provenance": [],
      "include_colab_link": true
    },
    "kernelspec": {
      "name": "python3",
      "display_name": "Python 3"
    },
    "language_info": {
      "name": "python"
    }
  },
  "cells": [
    {
      "cell_type": "markdown",
      "metadata": {
        "id": "view-in-github",
        "colab_type": "text"
      },
      "source": [
        "<a href=\"https://colab.research.google.com/github/Alperenlcr/Python_and_Data_Science_Bootcamp/blob/main/Python_Task_1_G%C3%BCn_II_Soru.ipynb\" target=\"_parent\"><img src=\"https://colab.research.google.com/assets/colab-badge.svg\" alt=\"Open In Colab\"/></a>"
      ]
    },
    {
      "cell_type": "markdown",
      "source": [
        "# Python Task - 2\n",
        "\n",
        "**List - dictionary** yaklaşımını kullanarak verilen dizideki tekrarlayan elemanları bulan ve liste olarak çıktı üreten bir fonksiyon yazmanız beklenmektedir. \n",
        "\n",
        "**Not:** Herhangi bir built-in sayıcı fonksiyon kullanılmamalıdır.\n"
      ],
      "metadata": {
        "id": "qnkiLlMn7c6a"
      }
    },
    {
      "cell_type": "markdown",
      "source": [
        "**Örnek:** \n",
        "\n",
        "**Girdi:**\n",
        "    input_list = [1, 2, 1, 2, 3, 4, 5, 1, 1, 2, 5, 6, 7, 8, 9, 9]\n",
        "\n",
        "**Çıktı:**\n",
        "   [1, 2, 5, 9]\n"
      ],
      "metadata": {
        "id": "sCIqwCCH7la6"
      }
    },
    {
      "cell_type": "code",
      "execution_count": null,
      "metadata": {
        "id": "af700885",
        "colab": {
          "base_uri": "https://localhost:8080/"
        },
        "outputId": "1c403e2e-cdc8-45f6-de71-2bb7f1b5739b"
      },
      "outputs": [
        {
          "output_type": "stream",
          "name": "stdout",
          "text": [
            "[1, 2, 5, 9]\n"
          ]
        }
      ],
      "source": [
        "def duplicate(input_list):\n",
        "\t#kodu buraya yazınız\n",
        "\tdict = {}\n",
        "\tfor number in input_list:\n",
        "\t\ttry:\n",
        "\t\t\tif type(dict[number]) == int:\n",
        "\t\t\t\tdict[number] += 1\n",
        "\t\texcept KeyError:\n",
        "\t\t\t  dict[number] = 0\n",
        "\tr = []\n",
        "\tfor key, value in dict.items():\n",
        "\t\tif value != 0:\n",
        "\t\t\tr.append(key)\n",
        "\treturn r\n",
        "\t\n",
        "if __name__ == '__main__':\n",
        "\tinput_list = [1, 2, 1, 2, 3, 4, 5, 1, 1, 2, 5, 6, 7, 8, 9, 9]\n",
        "\tprint(duplicate(input_list))\n",
        "\n"
      ]
    }
  ]
}